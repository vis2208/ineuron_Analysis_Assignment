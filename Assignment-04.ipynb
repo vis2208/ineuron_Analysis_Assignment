{
 "cells": [
  {
   "cell_type": "code",
   "execution_count": 310,
   "id": "b36afd01",
   "metadata": {},
   "outputs": [],
   "source": [
    "import pandas as pd\n",
    "import numpy as np\n",
    "import matplotlib.pyplot as plt\n",
    "%matplotlib inline"
   ]
  },
  {
   "cell_type": "code",
   "execution_count": 311,
   "id": "dc1f3bce",
   "metadata": {},
   "outputs": [
    {
     "data": {
      "text/html": [
       "<div>\n",
       "<style scoped>\n",
       "    .dataframe tbody tr th:only-of-type {\n",
       "        vertical-align: middle;\n",
       "    }\n",
       "\n",
       "    .dataframe tbody tr th {\n",
       "        vertical-align: top;\n",
       "    }\n",
       "\n",
       "    .dataframe thead th {\n",
       "        text-align: right;\n",
       "    }\n",
       "</style>\n",
       "<table border=\"1\" class=\"dataframe\">\n",
       "  <thead>\n",
       "    <tr style=\"text-align: right;\">\n",
       "      <th></th>\n",
       "      <th>Email</th>\n",
       "      <th>Address</th>\n",
       "      <th>Avatar</th>\n",
       "      <th>Avg. Session Length</th>\n",
       "      <th>Time on App</th>\n",
       "      <th>Time on Website</th>\n",
       "      <th>Length of Membership</th>\n",
       "      <th>Yearly Amount Spent</th>\n",
       "    </tr>\n",
       "  </thead>\n",
       "  <tbody>\n",
       "    <tr>\n",
       "      <th>0</th>\n",
       "      <td>mstephenson@fernandez.com</td>\n",
       "      <td>835 Frank Tunnel\\nWrightmouth, MI 82180-9605</td>\n",
       "      <td>Violet</td>\n",
       "      <td>34.497268</td>\n",
       "      <td>12.655651</td>\n",
       "      <td>39.577668</td>\n",
       "      <td>4.082621</td>\n",
       "      <td>587.951054</td>\n",
       "    </tr>\n",
       "    <tr>\n",
       "      <th>1</th>\n",
       "      <td>hduke@hotmail.com</td>\n",
       "      <td>4547 Archer Common\\nDiazchester, CA 06566-8576</td>\n",
       "      <td>DarkGreen</td>\n",
       "      <td>31.926272</td>\n",
       "      <td>11.109461</td>\n",
       "      <td>37.268959</td>\n",
       "      <td>2.664034</td>\n",
       "      <td>392.204933</td>\n",
       "    </tr>\n",
       "    <tr>\n",
       "      <th>2</th>\n",
       "      <td>pallen@yahoo.com</td>\n",
       "      <td>24645 Valerie Unions Suite 582\\nCobbborough, D...</td>\n",
       "      <td>Bisque</td>\n",
       "      <td>33.000915</td>\n",
       "      <td>11.330278</td>\n",
       "      <td>37.110597</td>\n",
       "      <td>4.104543</td>\n",
       "      <td>487.547505</td>\n",
       "    </tr>\n",
       "  </tbody>\n",
       "</table>\n",
       "</div>"
      ],
      "text/plain": [
       "                       Email  \\\n",
       "0  mstephenson@fernandez.com   \n",
       "1          hduke@hotmail.com   \n",
       "2           pallen@yahoo.com   \n",
       "\n",
       "                                             Address     Avatar  \\\n",
       "0       835 Frank Tunnel\\nWrightmouth, MI 82180-9605     Violet   \n",
       "1     4547 Archer Common\\nDiazchester, CA 06566-8576  DarkGreen   \n",
       "2  24645 Valerie Unions Suite 582\\nCobbborough, D...     Bisque   \n",
       "\n",
       "   Avg. Session Length  Time on App  Time on Website  Length of Membership  \\\n",
       "0            34.497268    12.655651        39.577668              4.082621   \n",
       "1            31.926272    11.109461        37.268959              2.664034   \n",
       "2            33.000915    11.330278        37.110597              4.104543   \n",
       "\n",
       "   Yearly Amount Spent  \n",
       "0           587.951054  \n",
       "1           392.204933  \n",
       "2           487.547505  "
      ]
     },
     "execution_count": 311,
     "metadata": {},
     "output_type": "execute_result"
    }
   ],
   "source": [
    "df = pd.read_csv(\"Ecommerce Customers.csv\")\n",
    "df.head(3)"
   ]
  },
  {
   "cell_type": "code",
   "execution_count": 312,
   "id": "8ad01a02",
   "metadata": {},
   "outputs": [
    {
     "data": {
      "text/plain": [
       "Index(['Email', 'Address', 'Avatar', 'Avg. Session Length', 'Time on App',\n",
       "       'Time on Website', 'Length of Membership', 'Yearly Amount Spent'],\n",
       "      dtype='object')"
      ]
     },
     "execution_count": 312,
     "metadata": {},
     "output_type": "execute_result"
    }
   ],
   "source": [
    "df.columns  # there are 8  columns"
   ]
  },
  {
   "cell_type": "code",
   "execution_count": 313,
   "id": "39ee32a6",
   "metadata": {},
   "outputs": [
    {
     "name": "stdout",
     "output_type": "stream",
     "text": [
      "<class 'pandas.core.frame.DataFrame'>\n",
      "RangeIndex: 500 entries, 0 to 499\n",
      "Data columns (total 8 columns):\n",
      " #   Column                Non-Null Count  Dtype  \n",
      "---  ------                --------------  -----  \n",
      " 0   Email                 500 non-null    object \n",
      " 1   Address               500 non-null    object \n",
      " 2   Avatar                500 non-null    object \n",
      " 3   Avg. Session Length   500 non-null    float64\n",
      " 4   Time on App           500 non-null    float64\n",
      " 5   Time on Website       500 non-null    float64\n",
      " 6   Length of Membership  500 non-null    float64\n",
      " 7   Yearly Amount Spent   500 non-null    float64\n",
      "dtypes: float64(5), object(3)\n",
      "memory usage: 31.4+ KB\n"
     ]
    }
   ],
   "source": [
    "df.info()  # there is no null values in any columns."
   ]
  },
  {
   "cell_type": "code",
   "execution_count": 314,
   "id": "3f1ee88f",
   "metadata": {},
   "outputs": [
    {
     "data": {
      "text/plain": [
       "RangeIndex(start=0, stop=500, step=1)"
      ]
     },
     "execution_count": 314,
     "metadata": {},
     "output_type": "execute_result"
    }
   ],
   "source": [
    "df.index"
   ]
  },
  {
   "cell_type": "code",
   "execution_count": 315,
   "id": "c9a8fd1c",
   "metadata": {},
   "outputs": [
    {
     "data": {
      "text/plain": [
       "array([['mstephenson@fernandez.com',\n",
       "        '835 Frank Tunnel\\nWrightmouth, MI 82180-9605', 'Violet', ...,\n",
       "        39.57766802, 4.082620633, 587.951054],\n",
       "       ['hduke@hotmail.com',\n",
       "        '4547 Archer Common\\nDiazchester, CA 06566-8576', 'DarkGreen',\n",
       "        ..., 37.26895887, 2.664034182, 392.2049334],\n",
       "       ['pallen@yahoo.com',\n",
       "        '24645 Valerie Unions Suite 582\\nCobbborough, DC 99414-7564',\n",
       "        'Bisque', ..., 37.11059744, 4.104543202, 487.5475049],\n",
       "       ...,\n",
       "       ['dale88@hotmail.com',\n",
       "        '0787 Andrews Ranch Apt. 633\\nSouth Chadburgh, TN 56128',\n",
       "        'Cornsilk', ..., 38.33257633, 4.958264473, 551.6201455],\n",
       "       ['cwilson@hotmail.com',\n",
       "        '680 Jennifer Lodge Apt. 808\\nBrendachester, TX 05000-5873',\n",
       "        'Teal', ..., 36.84008573, 2.336484668, 456.4695101],\n",
       "       ['hannahwilson@davidson.com',\n",
       "        '49791 Rachel Heights Apt. 898\\nEast Drewborough, OR 55919-9528',\n",
       "        'DarkMagenta', ..., 35.77101619, 2.735159567, 497.7786422]],\n",
       "      dtype=object)"
      ]
     },
     "execution_count": 315,
     "metadata": {},
     "output_type": "execute_result"
    }
   ],
   "source": [
    "df.values"
   ]
  },
  {
   "cell_type": "code",
   "execution_count": 316,
   "id": "8bbca2b6",
   "metadata": {},
   "outputs": [
    {
     "data": {
      "text/plain": [
       "Email                    object\n",
       "Address                  object\n",
       "Avatar                   object\n",
       "Avg. Session Length     float64\n",
       "Time on App             float64\n",
       "Time on Website         float64\n",
       "Length of Membership    float64\n",
       "Yearly Amount Spent     float64\n",
       "dtype: object"
      ]
     },
     "execution_count": 316,
     "metadata": {},
     "output_type": "execute_result"
    }
   ],
   "source": [
    "df.dtypes"
   ]
  },
  {
   "cell_type": "code",
   "execution_count": 317,
   "id": "15af65f6",
   "metadata": {},
   "outputs": [
    {
     "data": {
      "text/html": [
       "<div>\n",
       "<style scoped>\n",
       "    .dataframe tbody tr th:only-of-type {\n",
       "        vertical-align: middle;\n",
       "    }\n",
       "\n",
       "    .dataframe tbody tr th {\n",
       "        vertical-align: top;\n",
       "    }\n",
       "\n",
       "    .dataframe thead th {\n",
       "        text-align: right;\n",
       "    }\n",
       "</style>\n",
       "<table border=\"1\" class=\"dataframe\">\n",
       "  <thead>\n",
       "    <tr style=\"text-align: right;\">\n",
       "      <th></th>\n",
       "      <th>Avg. Session Length</th>\n",
       "      <th>Time on App</th>\n",
       "      <th>Time on Website</th>\n",
       "      <th>Length of Membership</th>\n",
       "      <th>Yearly Amount Spent</th>\n",
       "    </tr>\n",
       "  </thead>\n",
       "  <tbody>\n",
       "    <tr>\n",
       "      <th>count</th>\n",
       "      <td>500.000000</td>\n",
       "      <td>500.000000</td>\n",
       "      <td>500.000000</td>\n",
       "      <td>500.000000</td>\n",
       "      <td>500.000000</td>\n",
       "    </tr>\n",
       "    <tr>\n",
       "      <th>mean</th>\n",
       "      <td>33.053194</td>\n",
       "      <td>12.052488</td>\n",
       "      <td>37.060445</td>\n",
       "      <td>3.533462</td>\n",
       "      <td>499.314038</td>\n",
       "    </tr>\n",
       "    <tr>\n",
       "      <th>std</th>\n",
       "      <td>0.992563</td>\n",
       "      <td>0.994216</td>\n",
       "      <td>1.010489</td>\n",
       "      <td>0.999278</td>\n",
       "      <td>79.314782</td>\n",
       "    </tr>\n",
       "    <tr>\n",
       "      <th>min</th>\n",
       "      <td>29.532429</td>\n",
       "      <td>8.508152</td>\n",
       "      <td>33.913847</td>\n",
       "      <td>0.269901</td>\n",
       "      <td>256.670582</td>\n",
       "    </tr>\n",
       "    <tr>\n",
       "      <th>25%</th>\n",
       "      <td>32.341822</td>\n",
       "      <td>11.388153</td>\n",
       "      <td>36.349257</td>\n",
       "      <td>2.930450</td>\n",
       "      <td>445.038277</td>\n",
       "    </tr>\n",
       "    <tr>\n",
       "      <th>50%</th>\n",
       "      <td>33.082008</td>\n",
       "      <td>11.983231</td>\n",
       "      <td>37.069367</td>\n",
       "      <td>3.533975</td>\n",
       "      <td>498.887875</td>\n",
       "    </tr>\n",
       "    <tr>\n",
       "      <th>75%</th>\n",
       "      <td>33.711985</td>\n",
       "      <td>12.753850</td>\n",
       "      <td>37.716432</td>\n",
       "      <td>4.126502</td>\n",
       "      <td>549.313828</td>\n",
       "    </tr>\n",
       "    <tr>\n",
       "      <th>max</th>\n",
       "      <td>36.139662</td>\n",
       "      <td>15.126994</td>\n",
       "      <td>40.005182</td>\n",
       "      <td>6.922689</td>\n",
       "      <td>765.518462</td>\n",
       "    </tr>\n",
       "  </tbody>\n",
       "</table>\n",
       "</div>"
      ],
      "text/plain": [
       "       Avg. Session Length  Time on App  Time on Website  \\\n",
       "count           500.000000   500.000000       500.000000   \n",
       "mean             33.053194    12.052488        37.060445   \n",
       "std               0.992563     0.994216         1.010489   \n",
       "min              29.532429     8.508152        33.913847   \n",
       "25%              32.341822    11.388153        36.349257   \n",
       "50%              33.082008    11.983231        37.069367   \n",
       "75%              33.711985    12.753850        37.716432   \n",
       "max              36.139662    15.126994        40.005182   \n",
       "\n",
       "       Length of Membership  Yearly Amount Spent  \n",
       "count            500.000000           500.000000  \n",
       "mean               3.533462           499.314038  \n",
       "std                0.999278            79.314782  \n",
       "min                0.269901           256.670582  \n",
       "25%                2.930450           445.038277  \n",
       "50%                3.533975           498.887875  \n",
       "75%                4.126502           549.313828  \n",
       "max                6.922689           765.518462  "
      ]
     },
     "execution_count": 317,
     "metadata": {},
     "output_type": "execute_result"
    }
   ],
   "source": [
    "df.describe()"
   ]
  },
  {
   "cell_type": "code",
   "execution_count": 318,
   "id": "1d2d2fbe",
   "metadata": {},
   "outputs": [
    {
     "data": {
      "text/plain": [
       "Email                   0\n",
       "Address                 0\n",
       "Avatar                  0\n",
       "Avg. Session Length     0\n",
       "Time on App             0\n",
       "Time on Website         0\n",
       "Length of Membership    0\n",
       "Yearly Amount Spent     0\n",
       "dtype: int64"
      ]
     },
     "execution_count": 318,
     "metadata": {},
     "output_type": "execute_result"
    }
   ],
   "source": [
    "df.isnull().sum()"
   ]
  },
  {
   "cell_type": "code",
   "execution_count": 319,
   "id": "3c0d2875",
   "metadata": {},
   "outputs": [
    {
     "data": {
      "text/plain": [
       "4000"
      ]
     },
     "execution_count": 319,
     "metadata": {},
     "output_type": "execute_result"
    }
   ],
   "source": [
    "df.size # 500*8"
   ]
  },
  {
   "cell_type": "code",
   "execution_count": 320,
   "id": "89500e07",
   "metadata": {},
   "outputs": [
    {
     "data": {
      "text/plain": [
       "0          [mstephenson, fernandez.com]\n",
       "1                  [hduke, hotmail.com]\n",
       "2                   [pallen, yahoo.com]\n",
       "3            [riverarebecca, gmail.com]\n",
       "4      [mstephens, davidson-herman.com]\n",
       "                     ...               \n",
       "495     [lewisjessica, craig-evans.com]\n",
       "496              [katrina56, gmail.com]\n",
       "497               [dale88, hotmail.com]\n",
       "498              [cwilson, hotmail.com]\n",
       "499        [hannahwilson, davidson.com]\n",
       "Name: Email, Length: 500, dtype: object"
      ]
     },
     "execution_count": 320,
     "metadata": {},
     "output_type": "execute_result"
    }
   ],
   "source": [
    "split_Email = df[\"Email\"].str.split(\"@\")\n",
    "split_Email"
   ]
  },
  {
   "cell_type": "code",
   "execution_count": 321,
   "id": "cd7e520c",
   "metadata": {},
   "outputs": [],
   "source": [
    "def extract(ss):\n",
    "    return ss[0]"
   ]
  },
  {
   "cell_type": "code",
   "execution_count": 322,
   "id": "78f83922",
   "metadata": {},
   "outputs": [],
   "source": [
    "df['Customer Name'] = split_Email.apply(extract)"
   ]
  },
  {
   "cell_type": "code",
   "execution_count": 323,
   "id": "23f877f4",
   "metadata": {},
   "outputs": [
    {
     "data": {
      "text/plain": [
       "Index(['Email', 'Address', 'Avatar', 'Avg. Session Length', 'Time on App',\n",
       "       'Time on Website', 'Length of Membership', 'Yearly Amount Spent',\n",
       "       'Customer Name'],\n",
       "      dtype='object')"
      ]
     },
     "execution_count": 323,
     "metadata": {},
     "output_type": "execute_result"
    }
   ],
   "source": [
    "df.columns"
   ]
  },
  {
   "cell_type": "code",
   "execution_count": 324,
   "id": "4b9bc4b2",
   "metadata": {},
   "outputs": [
    {
     "data": {
      "text/html": [
       "<div>\n",
       "<style scoped>\n",
       "    .dataframe tbody tr th:only-of-type {\n",
       "        vertical-align: middle;\n",
       "    }\n",
       "\n",
       "    .dataframe tbody tr th {\n",
       "        vertical-align: top;\n",
       "    }\n",
       "\n",
       "    .dataframe thead th {\n",
       "        text-align: right;\n",
       "    }\n",
       "</style>\n",
       "<table border=\"1\" class=\"dataframe\">\n",
       "  <thead>\n",
       "    <tr style=\"text-align: right;\">\n",
       "      <th></th>\n",
       "      <th>Customer Name</th>\n",
       "      <th>Address</th>\n",
       "      <th>Avatar</th>\n",
       "      <th>Avg. Session Length</th>\n",
       "      <th>Time on App</th>\n",
       "      <th>Time on Website</th>\n",
       "      <th>Length of Membership</th>\n",
       "      <th>Yearly Amount Spent</th>\n",
       "    </tr>\n",
       "    <tr>\n",
       "      <th>Email</th>\n",
       "      <th></th>\n",
       "      <th></th>\n",
       "      <th></th>\n",
       "      <th></th>\n",
       "      <th></th>\n",
       "      <th></th>\n",
       "      <th></th>\n",
       "      <th></th>\n",
       "    </tr>\n",
       "  </thead>\n",
       "  <tbody>\n",
       "    <tr>\n",
       "      <th>mstephenson@fernandez.com</th>\n",
       "      <td>mstephenson</td>\n",
       "      <td>835 Frank Tunnel\\nWrightmouth, MI 82180-9605</td>\n",
       "      <td>Violet</td>\n",
       "      <td>34.497268</td>\n",
       "      <td>12.655651</td>\n",
       "      <td>39.577668</td>\n",
       "      <td>4.082621</td>\n",
       "      <td>587.951054</td>\n",
       "    </tr>\n",
       "    <tr>\n",
       "      <th>hduke@hotmail.com</th>\n",
       "      <td>hduke</td>\n",
       "      <td>4547 Archer Common\\nDiazchester, CA 06566-8576</td>\n",
       "      <td>DarkGreen</td>\n",
       "      <td>31.926272</td>\n",
       "      <td>11.109461</td>\n",
       "      <td>37.268959</td>\n",
       "      <td>2.664034</td>\n",
       "      <td>392.204933</td>\n",
       "    </tr>\n",
       "    <tr>\n",
       "      <th>pallen@yahoo.com</th>\n",
       "      <td>pallen</td>\n",
       "      <td>24645 Valerie Unions Suite 582\\nCobbborough, D...</td>\n",
       "      <td>Bisque</td>\n",
       "      <td>33.000915</td>\n",
       "      <td>11.330278</td>\n",
       "      <td>37.110597</td>\n",
       "      <td>4.104543</td>\n",
       "      <td>487.547505</td>\n",
       "    </tr>\n",
       "  </tbody>\n",
       "</table>\n",
       "</div>"
      ],
      "text/plain": [
       "                          Customer Name  \\\n",
       "Email                                     \n",
       "mstephenson@fernandez.com   mstephenson   \n",
       "hduke@hotmail.com                 hduke   \n",
       "pallen@yahoo.com                 pallen   \n",
       "\n",
       "                                                                     Address  \\\n",
       "Email                                                                          \n",
       "mstephenson@fernandez.com       835 Frank Tunnel\\nWrightmouth, MI 82180-9605   \n",
       "hduke@hotmail.com             4547 Archer Common\\nDiazchester, CA 06566-8576   \n",
       "pallen@yahoo.com           24645 Valerie Unions Suite 582\\nCobbborough, D...   \n",
       "\n",
       "                              Avatar  Avg. Session Length  Time on App  \\\n",
       "Email                                                                    \n",
       "mstephenson@fernandez.com     Violet            34.497268    12.655651   \n",
       "hduke@hotmail.com          DarkGreen            31.926272    11.109461   \n",
       "pallen@yahoo.com              Bisque            33.000915    11.330278   \n",
       "\n",
       "                           Time on Website  Length of Membership  \\\n",
       "Email                                                              \n",
       "mstephenson@fernandez.com        39.577668              4.082621   \n",
       "hduke@hotmail.com                37.268959              2.664034   \n",
       "pallen@yahoo.com                 37.110597              4.104543   \n",
       "\n",
       "                           Yearly Amount Spent  \n",
       "Email                                           \n",
       "mstephenson@fernandez.com           587.951054  \n",
       "hduke@hotmail.com                   392.204933  \n",
       "pallen@yahoo.com                    487.547505  "
      ]
     },
     "execution_count": 324,
     "metadata": {},
     "output_type": "execute_result"
    }
   ],
   "source": [
    "df.set_index(\"Email\", inplace = True)\n",
    "df = df[['Customer Name', 'Address', 'Avatar', 'Avg. Session Length', 'Time on App','Time on Website', 'Length of Membership', 'Yearly Amount Spent']]\n",
    "df.head(3)"
   ]
  },
  {
   "cell_type": "code",
   "execution_count": 325,
   "id": "3ce381a8",
   "metadata": {},
   "outputs": [
    {
     "data": {
      "text/plain": [
       "array(['Violet', 'DarkGreen', 'Bisque', 'SaddleBrown', 'MediumAquaMarine',\n",
       "       'FloralWhite', 'DarkSlateBlue', 'Aqua', 'Salmon', 'Brown',\n",
       "       'Tomato', 'RoyalBlue', 'DarkBlue', 'Peru', 'PowderBlue',\n",
       "       'OliveDrab', 'Cyan', 'LightSeaGreen', 'PeachPuff', 'Black',\n",
       "       'Olive', 'Silver', 'Wheat', 'Teal', 'Linen', 'MediumSlateBlue',\n",
       "       'LemonChiffon', 'DarkOrchid', 'SeaGreen', 'SteelBlue',\n",
       "       'DarkMagenta', 'DarkGoldenRod', 'DarkSeaGreen', 'Gainsboro',\n",
       "       'HotPink', 'HoneyDew', 'WhiteSmoke', 'GhostWhite', 'Chocolate',\n",
       "       'Snow', 'BurlyWood', 'Moccasin', 'BlueViolet', 'MediumBlue',\n",
       "       'GreenYellow', 'SandyBrown', 'MediumVioletRed', 'DarkOliveGreen',\n",
       "       'DarkSalmon', 'DeepPink', 'SkyBlue', 'Magenta', 'DarkTurquoise',\n",
       "       'SpringGreen', 'OrangeRed', 'LimeGreen', 'LightGreen',\n",
       "       'LightYellow', 'MintCream', 'DimGray', 'Indigo', 'LightSalmon',\n",
       "       'DeepSkyBlue', 'Turquoise', 'LightSteelBlue', 'Cornsilk',\n",
       "       'DarkKhaki', 'FireBrick', 'SlateGray', 'Crimson', 'MidnightBlue',\n",
       "       'DarkCyan', 'OldLace', 'Gray', 'LightPink', 'BlanchedAlmond',\n",
       "       'CadetBlue', 'PaleTurquoise', 'Chartreuse', 'Khaki',\n",
       "       'MediumSpringGreen', 'Lime', 'SlateBlue', 'Orange', 'Fuchsia',\n",
       "       'GoldenRod', 'ForestGreen', 'Green', 'LightSkyBlue', 'Azure',\n",
       "       'LightGray', 'MediumOrchid', 'Sienna', 'Aquamarine', 'Purple',\n",
       "       'CornflowerBlue', 'DarkSlateGray', 'DarkRed', 'DarkViolet',\n",
       "       'LavenderBlush', 'Navy', 'RosyBrown', 'Pink', 'Red', 'Lavender',\n",
       "       'White', 'MediumSeaGreen', 'MediumPurple', 'Tan', 'LawnGreen',\n",
       "       'Thistle', 'Orchid', 'Yellow', 'AntiqueWhite', 'AliceBlue',\n",
       "       'PapayaWhip', 'Gold', 'MediumTurquoise', 'YellowGreen',\n",
       "       'LightCyan', 'LightCoral', 'SeaShell', 'LightGoldenRodYellow',\n",
       "       'Blue', 'LightBlue', 'PaleGoldenRod', 'Coral', 'DarkOrange',\n",
       "       'Ivory', 'PaleVioletRed', 'DarkGray', 'MistyRose', 'NavajoWhite',\n",
       "       'DodgerBlue', 'IndianRed', 'PaleGreen', 'LightSlateGray', 'Beige'],\n",
       "      dtype=object)"
      ]
     },
     "execution_count": 325,
     "metadata": {},
     "output_type": "execute_result"
    }
   ],
   "source": [
    "df[\"Avatar\"].unique()"
   ]
  },
  {
   "cell_type": "code",
   "execution_count": 326,
   "id": "71509f6a",
   "metadata": {},
   "outputs": [
    {
     "data": {
      "text/plain": [
       "138"
      ]
     },
     "execution_count": 326,
     "metadata": {},
     "output_type": "execute_result"
    }
   ],
   "source": [
    "len(df[\"Avatar\"].unique())"
   ]
  },
  {
   "cell_type": "code",
   "execution_count": 327,
   "id": "8625cf99",
   "metadata": {},
   "outputs": [
    {
     "data": {
      "text/plain": [
       "249657.0191304"
      ]
     },
     "execution_count": 327,
     "metadata": {},
     "output_type": "execute_result"
    }
   ],
   "source": [
    "revenue = df[\"Yearly Amount Spent\"].sum()  # Total Revenue\n",
    "revenue"
   ]
  },
  {
   "cell_type": "code",
   "execution_count": 328,
   "id": "0f077329",
   "metadata": {},
   "outputs": [],
   "source": [
    "groupby_avatar = df.groupby([\"Avatar\"])"
   ]
  },
  {
   "cell_type": "code",
   "execution_count": 329,
   "id": "ba93adcf",
   "metadata": {},
   "outputs": [
    {
     "name": "stderr",
     "output_type": "stream",
     "text": [
      "C:\\Users\\user\\AppData\\Local\\Temp\\ipykernel_9184\\4018871493.py:1: FutureWarning: ['Customer Name', 'Address'] did not aggregate successfully. If any error is raised this will raise in a future version of pandas. Drop these columns/ops to avoid this warning.\n",
      "  groupby_avatar_agg = groupby_avatar.agg([\"max\",\"min\",\"mean\",\"sum\"]).sort_values(by = [(\"Yearly Amount Spent\",\"sum\")], ascending = False)\n"
     ]
    },
    {
     "data": {
      "text/html": [
       "<div>\n",
       "<style scoped>\n",
       "    .dataframe tbody tr th:only-of-type {\n",
       "        vertical-align: middle;\n",
       "    }\n",
       "\n",
       "    .dataframe tbody tr th {\n",
       "        vertical-align: top;\n",
       "    }\n",
       "\n",
       "    .dataframe thead tr th {\n",
       "        text-align: left;\n",
       "    }\n",
       "\n",
       "    .dataframe thead tr:last-of-type th {\n",
       "        text-align: right;\n",
       "    }\n",
       "</style>\n",
       "<table border=\"1\" class=\"dataframe\">\n",
       "  <thead>\n",
       "    <tr>\n",
       "      <th></th>\n",
       "      <th colspan=\"4\" halign=\"left\">Avg. Session Length</th>\n",
       "      <th colspan=\"4\" halign=\"left\">Time on App</th>\n",
       "      <th colspan=\"4\" halign=\"left\">Time on Website</th>\n",
       "      <th colspan=\"4\" halign=\"left\">Length of Membership</th>\n",
       "      <th colspan=\"4\" halign=\"left\">Yearly Amount Spent</th>\n",
       "    </tr>\n",
       "    <tr>\n",
       "      <th></th>\n",
       "      <th>max</th>\n",
       "      <th>min</th>\n",
       "      <th>mean</th>\n",
       "      <th>sum</th>\n",
       "      <th>max</th>\n",
       "      <th>min</th>\n",
       "      <th>mean</th>\n",
       "      <th>sum</th>\n",
       "      <th>max</th>\n",
       "      <th>min</th>\n",
       "      <th>mean</th>\n",
       "      <th>sum</th>\n",
       "      <th>max</th>\n",
       "      <th>min</th>\n",
       "      <th>mean</th>\n",
       "      <th>sum</th>\n",
       "      <th>max</th>\n",
       "      <th>min</th>\n",
       "      <th>mean</th>\n",
       "      <th>sum</th>\n",
       "    </tr>\n",
       "    <tr>\n",
       "      <th>Avatar</th>\n",
       "      <th></th>\n",
       "      <th></th>\n",
       "      <th></th>\n",
       "      <th></th>\n",
       "      <th></th>\n",
       "      <th></th>\n",
       "      <th></th>\n",
       "      <th></th>\n",
       "      <th></th>\n",
       "      <th></th>\n",
       "      <th></th>\n",
       "      <th></th>\n",
       "      <th></th>\n",
       "      <th></th>\n",
       "      <th></th>\n",
       "      <th></th>\n",
       "      <th></th>\n",
       "      <th></th>\n",
       "      <th></th>\n",
       "      <th></th>\n",
       "    </tr>\n",
       "  </thead>\n",
       "  <tbody>\n",
       "    <tr>\n",
       "      <th>GreenYellow</th>\n",
       "      <td>34.569381</td>\n",
       "      <td>31.661050</td>\n",
       "      <td>33.052354</td>\n",
       "      <td>231.366478</td>\n",
       "      <td>12.854990</td>\n",
       "      <td>10.889567</td>\n",
       "      <td>11.860506</td>\n",
       "      <td>83.023545</td>\n",
       "      <td>38.212571</td>\n",
       "      <td>35.007482</td>\n",
       "      <td>36.681884</td>\n",
       "      <td>256.773189</td>\n",
       "      <td>4.724027</td>\n",
       "      <td>2.724108</td>\n",
       "      <td>3.689260</td>\n",
       "      <td>25.824820</td>\n",
       "      <td>576.311177</td>\n",
       "      <td>416.358354</td>\n",
       "      <td>503.737734</td>\n",
       "      <td>3526.164138</td>\n",
       "    </tr>\n",
       "    <tr>\n",
       "      <th>SlateBlue</th>\n",
       "      <td>34.334865</td>\n",
       "      <td>31.851253</td>\n",
       "      <td>33.183289</td>\n",
       "      <td>232.283021</td>\n",
       "      <td>12.638572</td>\n",
       "      <td>10.441235</td>\n",
       "      <td>11.855615</td>\n",
       "      <td>82.989308</td>\n",
       "      <td>38.585855</td>\n",
       "      <td>35.938963</td>\n",
       "      <td>36.871472</td>\n",
       "      <td>258.100301</td>\n",
       "      <td>4.297737</td>\n",
       "      <td>2.753424</td>\n",
       "      <td>3.590135</td>\n",
       "      <td>25.130944</td>\n",
       "      <td>571.471034</td>\n",
       "      <td>407.657179</td>\n",
       "      <td>501.042421</td>\n",
       "      <td>3507.296944</td>\n",
       "    </tr>\n",
       "    <tr>\n",
       "      <th>Cyan</th>\n",
       "      <td>33.636624</td>\n",
       "      <td>31.123974</td>\n",
       "      <td>32.615460</td>\n",
       "      <td>228.308223</td>\n",
       "      <td>14.715388</td>\n",
       "      <td>11.236507</td>\n",
       "      <td>12.230511</td>\n",
       "      <td>85.613578</td>\n",
       "      <td>38.244115</td>\n",
       "      <td>35.632112</td>\n",
       "      <td>37.023455</td>\n",
       "      <td>259.164185</td>\n",
       "      <td>5.254709</td>\n",
       "      <td>1.516576</td>\n",
       "      <td>3.604204</td>\n",
       "      <td>25.229431</td>\n",
       "      <td>591.437736</td>\n",
       "      <td>398.163469</td>\n",
       "      <td>493.732741</td>\n",
       "      <td>3456.129189</td>\n",
       "    </tr>\n",
       "    <tr>\n",
       "      <th>CadetBlue</th>\n",
       "      <td>34.012619</td>\n",
       "      <td>31.967321</td>\n",
       "      <td>32.921821</td>\n",
       "      <td>230.452744</td>\n",
       "      <td>13.186813</td>\n",
       "      <td>10.804891</td>\n",
       "      <td>12.326090</td>\n",
       "      <td>86.282629</td>\n",
       "      <td>39.240965</td>\n",
       "      <td>35.845827</td>\n",
       "      <td>37.268940</td>\n",
       "      <td>260.882582</td>\n",
       "      <td>4.520353</td>\n",
       "      <td>2.367848</td>\n",
       "      <td>3.204793</td>\n",
       "      <td>22.433551</td>\n",
       "      <td>550.047581</td>\n",
       "      <td>375.398455</td>\n",
       "      <td>480.672073</td>\n",
       "      <td>3364.704513</td>\n",
       "    </tr>\n",
       "    <tr>\n",
       "      <th>Wheat</th>\n",
       "      <td>34.603311</td>\n",
       "      <td>32.030550</td>\n",
       "      <td>33.124426</td>\n",
       "      <td>198.746557</td>\n",
       "      <td>12.954811</td>\n",
       "      <td>11.448902</td>\n",
       "      <td>12.450832</td>\n",
       "      <td>74.704991</td>\n",
       "      <td>38.001827</td>\n",
       "      <td>33.913847</td>\n",
       "      <td>37.007658</td>\n",
       "      <td>222.045947</td>\n",
       "      <td>6.922689</td>\n",
       "      <td>0.269901</td>\n",
       "      <td>4.035456</td>\n",
       "      <td>24.212736</td>\n",
       "      <td>744.221867</td>\n",
       "      <td>314.438518</td>\n",
       "      <td>551.271616</td>\n",
       "      <td>3307.629694</td>\n",
       "    </tr>\n",
       "    <tr>\n",
       "      <th>...</th>\n",
       "      <td>...</td>\n",
       "      <td>...</td>\n",
       "      <td>...</td>\n",
       "      <td>...</td>\n",
       "      <td>...</td>\n",
       "      <td>...</td>\n",
       "      <td>...</td>\n",
       "      <td>...</td>\n",
       "      <td>...</td>\n",
       "      <td>...</td>\n",
       "      <td>...</td>\n",
       "      <td>...</td>\n",
       "      <td>...</td>\n",
       "      <td>...</td>\n",
       "      <td>...</td>\n",
       "      <td>...</td>\n",
       "      <td>...</td>\n",
       "      <td>...</td>\n",
       "      <td>...</td>\n",
       "      <td>...</td>\n",
       "    </tr>\n",
       "    <tr>\n",
       "      <th>PowderBlue</th>\n",
       "      <td>32.125387</td>\n",
       "      <td>32.125387</td>\n",
       "      <td>32.125387</td>\n",
       "      <td>32.125387</td>\n",
       "      <td>11.733862</td>\n",
       "      <td>11.733862</td>\n",
       "      <td>11.733862</td>\n",
       "      <td>11.733862</td>\n",
       "      <td>34.894093</td>\n",
       "      <td>34.894093</td>\n",
       "      <td>34.894093</td>\n",
       "      <td>34.894093</td>\n",
       "      <td>3.136133</td>\n",
       "      <td>3.136133</td>\n",
       "      <td>3.136133</td>\n",
       "      <td>3.136133</td>\n",
       "      <td>457.847696</td>\n",
       "      <td>457.847696</td>\n",
       "      <td>457.847696</td>\n",
       "      <td>457.847696</td>\n",
       "    </tr>\n",
       "    <tr>\n",
       "      <th>Azure</th>\n",
       "      <td>34.312167</td>\n",
       "      <td>34.312167</td>\n",
       "      <td>34.312167</td>\n",
       "      <td>34.312167</td>\n",
       "      <td>11.810587</td>\n",
       "      <td>11.810587</td>\n",
       "      <td>11.810587</td>\n",
       "      <td>11.810587</td>\n",
       "      <td>37.414134</td>\n",
       "      <td>37.414134</td>\n",
       "      <td>37.414134</td>\n",
       "      <td>37.414134</td>\n",
       "      <td>2.473596</td>\n",
       "      <td>2.473596</td>\n",
       "      <td>2.473596</td>\n",
       "      <td>2.473596</td>\n",
       "      <td>452.627255</td>\n",
       "      <td>452.627255</td>\n",
       "      <td>452.627255</td>\n",
       "      <td>452.627255</td>\n",
       "    </tr>\n",
       "    <tr>\n",
       "      <th>LightSlateGray</th>\n",
       "      <td>33.943119</td>\n",
       "      <td>33.943119</td>\n",
       "      <td>33.943119</td>\n",
       "      <td>33.943119</td>\n",
       "      <td>11.484199</td>\n",
       "      <td>11.484199</td>\n",
       "      <td>11.484199</td>\n",
       "      <td>11.484199</td>\n",
       "      <td>36.839366</td>\n",
       "      <td>36.839366</td>\n",
       "      <td>36.839366</td>\n",
       "      <td>36.839366</td>\n",
       "      <td>2.402454</td>\n",
       "      <td>2.402454</td>\n",
       "      <td>2.402454</td>\n",
       "      <td>2.402454</td>\n",
       "      <td>436.720556</td>\n",
       "      <td>436.720556</td>\n",
       "      <td>436.720556</td>\n",
       "      <td>436.720556</td>\n",
       "    </tr>\n",
       "    <tr>\n",
       "      <th>LawnGreen</th>\n",
       "      <td>33.459477</td>\n",
       "      <td>33.459477</td>\n",
       "      <td>33.459477</td>\n",
       "      <td>33.459477</td>\n",
       "      <td>11.388613</td>\n",
       "      <td>11.388613</td>\n",
       "      <td>11.388613</td>\n",
       "      <td>11.388613</td>\n",
       "      <td>37.909139</td>\n",
       "      <td>37.909139</td>\n",
       "      <td>37.909139</td>\n",
       "      <td>37.909139</td>\n",
       "      <td>2.566640</td>\n",
       "      <td>2.566640</td>\n",
       "      <td>2.566640</td>\n",
       "      <td>2.566640</td>\n",
       "      <td>434.021700</td>\n",
       "      <td>434.021700</td>\n",
       "      <td>434.021700</td>\n",
       "      <td>434.021700</td>\n",
       "    </tr>\n",
       "    <tr>\n",
       "      <th>Red</th>\n",
       "      <td>32.484260</td>\n",
       "      <td>32.484260</td>\n",
       "      <td>32.484260</td>\n",
       "      <td>32.484260</td>\n",
       "      <td>10.933252</td>\n",
       "      <td>10.933252</td>\n",
       "      <td>10.933252</td>\n",
       "      <td>10.933252</td>\n",
       "      <td>36.545506</td>\n",
       "      <td>36.545506</td>\n",
       "      <td>36.545506</td>\n",
       "      <td>36.545506</td>\n",
       "      <td>3.261325</td>\n",
       "      <td>3.261325</td>\n",
       "      <td>3.261325</td>\n",
       "      <td>3.261325</td>\n",
       "      <td>425.745092</td>\n",
       "      <td>425.745092</td>\n",
       "      <td>425.745092</td>\n",
       "      <td>425.745092</td>\n",
       "    </tr>\n",
       "  </tbody>\n",
       "</table>\n",
       "<p>138 rows × 20 columns</p>\n",
       "</div>"
      ],
      "text/plain": [
       "               Avg. Session Length                                    \\\n",
       "                               max        min       mean         sum   \n",
       "Avatar                                                                 \n",
       "GreenYellow              34.569381  31.661050  33.052354  231.366478   \n",
       "SlateBlue                34.334865  31.851253  33.183289  232.283021   \n",
       "Cyan                     33.636624  31.123974  32.615460  228.308223   \n",
       "CadetBlue                34.012619  31.967321  32.921821  230.452744   \n",
       "Wheat                    34.603311  32.030550  33.124426  198.746557   \n",
       "...                            ...        ...        ...         ...   \n",
       "PowderBlue               32.125387  32.125387  32.125387   32.125387   \n",
       "Azure                    34.312167  34.312167  34.312167   34.312167   \n",
       "LightSlateGray           33.943119  33.943119  33.943119   33.943119   \n",
       "LawnGreen                33.459477  33.459477  33.459477   33.459477   \n",
       "Red                      32.484260  32.484260  32.484260   32.484260   \n",
       "\n",
       "               Time on App                                  Time on Website  \\\n",
       "                       max        min       mean        sum             max   \n",
       "Avatar                                                                        \n",
       "GreenYellow      12.854990  10.889567  11.860506  83.023545       38.212571   \n",
       "SlateBlue        12.638572  10.441235  11.855615  82.989308       38.585855   \n",
       "Cyan             14.715388  11.236507  12.230511  85.613578       38.244115   \n",
       "CadetBlue        13.186813  10.804891  12.326090  86.282629       39.240965   \n",
       "Wheat            12.954811  11.448902  12.450832  74.704991       38.001827   \n",
       "...                    ...        ...        ...        ...             ...   \n",
       "PowderBlue       11.733862  11.733862  11.733862  11.733862       34.894093   \n",
       "Azure            11.810587  11.810587  11.810587  11.810587       37.414134   \n",
       "LightSlateGray   11.484199  11.484199  11.484199  11.484199       36.839366   \n",
       "LawnGreen        11.388613  11.388613  11.388613  11.388613       37.909139   \n",
       "Red              10.933252  10.933252  10.933252  10.933252       36.545506   \n",
       "\n",
       "                                                 Length of Membership  \\\n",
       "                      min       mean         sum                  max   \n",
       "Avatar                                                                  \n",
       "GreenYellow     35.007482  36.681884  256.773189             4.724027   \n",
       "SlateBlue       35.938963  36.871472  258.100301             4.297737   \n",
       "Cyan            35.632112  37.023455  259.164185             5.254709   \n",
       "CadetBlue       35.845827  37.268940  260.882582             4.520353   \n",
       "Wheat           33.913847  37.007658  222.045947             6.922689   \n",
       "...                   ...        ...         ...                  ...   \n",
       "PowderBlue      34.894093  34.894093   34.894093             3.136133   \n",
       "Azure           37.414134  37.414134   37.414134             2.473596   \n",
       "LightSlateGray  36.839366  36.839366   36.839366             2.402454   \n",
       "LawnGreen       37.909139  37.909139   37.909139             2.566640   \n",
       "Red             36.545506  36.545506   36.545506             3.261325   \n",
       "\n",
       "                                              Yearly Amount Spent              \\\n",
       "                     min      mean        sum                 max         min   \n",
       "Avatar                                                                          \n",
       "GreenYellow     2.724108  3.689260  25.824820          576.311177  416.358354   \n",
       "SlateBlue       2.753424  3.590135  25.130944          571.471034  407.657179   \n",
       "Cyan            1.516576  3.604204  25.229431          591.437736  398.163469   \n",
       "CadetBlue       2.367848  3.204793  22.433551          550.047581  375.398455   \n",
       "Wheat           0.269901  4.035456  24.212736          744.221867  314.438518   \n",
       "...                  ...       ...        ...                 ...         ...   \n",
       "PowderBlue      3.136133  3.136133   3.136133          457.847696  457.847696   \n",
       "Azure           2.473596  2.473596   2.473596          452.627255  452.627255   \n",
       "LightSlateGray  2.402454  2.402454   2.402454          436.720556  436.720556   \n",
       "LawnGreen       2.566640  2.566640   2.566640          434.021700  434.021700   \n",
       "Red             3.261325  3.261325   3.261325          425.745092  425.745092   \n",
       "\n",
       "                                         \n",
       "                      mean          sum  \n",
       "Avatar                                   \n",
       "GreenYellow     503.737734  3526.164138  \n",
       "SlateBlue       501.042421  3507.296944  \n",
       "Cyan            493.732741  3456.129189  \n",
       "CadetBlue       480.672073  3364.704513  \n",
       "Wheat           551.271616  3307.629694  \n",
       "...                    ...          ...  \n",
       "PowderBlue      457.847696   457.847696  \n",
       "Azure           452.627255   452.627255  \n",
       "LightSlateGray  436.720556   436.720556  \n",
       "LawnGreen       434.021700   434.021700  \n",
       "Red             425.745092   425.745092  \n",
       "\n",
       "[138 rows x 20 columns]"
      ]
     },
     "execution_count": 329,
     "metadata": {},
     "output_type": "execute_result"
    }
   ],
   "source": [
    "groupby_avatar_agg = groupby_avatar.agg([\"max\",\"min\",\"mean\",\"sum\"]).sort_values(by = [(\"Yearly Amount Spent\",\"sum\")], ascending = False)\n",
    "groupby_avatar_agg"
   ]
  },
  {
   "cell_type": "code",
   "execution_count": 330,
   "id": "267a558e",
   "metadata": {},
   "outputs": [
    {
     "data": {
      "text/html": [
       "<div>\n",
       "<style scoped>\n",
       "    .dataframe tbody tr th:only-of-type {\n",
       "        vertical-align: middle;\n",
       "    }\n",
       "\n",
       "    .dataframe tbody tr th {\n",
       "        vertical-align: top;\n",
       "    }\n",
       "\n",
       "    .dataframe thead tr th {\n",
       "        text-align: left;\n",
       "    }\n",
       "\n",
       "    .dataframe thead tr:last-of-type th {\n",
       "        text-align: right;\n",
       "    }\n",
       "</style>\n",
       "<table border=\"1\" class=\"dataframe\">\n",
       "  <thead>\n",
       "    <tr>\n",
       "      <th></th>\n",
       "      <th colspan=\"4\" halign=\"left\">Avg. Session Length</th>\n",
       "      <th colspan=\"4\" halign=\"left\">Time on App</th>\n",
       "      <th colspan=\"4\" halign=\"left\">Time on Website</th>\n",
       "      <th colspan=\"4\" halign=\"left\">Length of Membership</th>\n",
       "      <th colspan=\"4\" halign=\"left\">Yearly Amount Spent</th>\n",
       "    </tr>\n",
       "    <tr>\n",
       "      <th></th>\n",
       "      <th>max</th>\n",
       "      <th>min</th>\n",
       "      <th>mean</th>\n",
       "      <th>sum</th>\n",
       "      <th>max</th>\n",
       "      <th>min</th>\n",
       "      <th>mean</th>\n",
       "      <th>sum</th>\n",
       "      <th>max</th>\n",
       "      <th>min</th>\n",
       "      <th>mean</th>\n",
       "      <th>sum</th>\n",
       "      <th>max</th>\n",
       "      <th>min</th>\n",
       "      <th>mean</th>\n",
       "      <th>sum</th>\n",
       "      <th>max</th>\n",
       "      <th>min</th>\n",
       "      <th>mean</th>\n",
       "      <th>sum</th>\n",
       "    </tr>\n",
       "    <tr>\n",
       "      <th>Avatar</th>\n",
       "      <th></th>\n",
       "      <th></th>\n",
       "      <th></th>\n",
       "      <th></th>\n",
       "      <th></th>\n",
       "      <th></th>\n",
       "      <th></th>\n",
       "      <th></th>\n",
       "      <th></th>\n",
       "      <th></th>\n",
       "      <th></th>\n",
       "      <th></th>\n",
       "      <th></th>\n",
       "      <th></th>\n",
       "      <th></th>\n",
       "      <th></th>\n",
       "      <th></th>\n",
       "      <th></th>\n",
       "      <th></th>\n",
       "      <th></th>\n",
       "    </tr>\n",
       "  </thead>\n",
       "  <tbody>\n",
       "    <tr>\n",
       "      <th>GreenYellow</th>\n",
       "      <td>34.569381</td>\n",
       "      <td>31.66105</td>\n",
       "      <td>33.052354</td>\n",
       "      <td>231.366478</td>\n",
       "      <td>12.85499</td>\n",
       "      <td>10.889567</td>\n",
       "      <td>11.860506</td>\n",
       "      <td>83.023545</td>\n",
       "      <td>38.212571</td>\n",
       "      <td>35.007482</td>\n",
       "      <td>36.681884</td>\n",
       "      <td>256.773189</td>\n",
       "      <td>4.724027</td>\n",
       "      <td>2.724108</td>\n",
       "      <td>3.68926</td>\n",
       "      <td>25.82482</td>\n",
       "      <td>576.311177</td>\n",
       "      <td>416.358354</td>\n",
       "      <td>503.737734</td>\n",
       "      <td>3526.164138</td>\n",
       "    </tr>\n",
       "  </tbody>\n",
       "</table>\n",
       "</div>"
      ],
      "text/plain": [
       "            Avg. Session Length                                  Time on App  \\\n",
       "                            max       min       mean         sum         max   \n",
       "Avatar                                                                         \n",
       "GreenYellow           34.569381  31.66105  33.052354  231.366478    12.85499   \n",
       "\n",
       "                                             Time on Website             \\\n",
       "                   min       mean        sum             max        min   \n",
       "Avatar                                                                    \n",
       "GreenYellow  10.889567  11.860506  83.023545       38.212571  35.007482   \n",
       "\n",
       "                                   Length of Membership                     \\\n",
       "                  mean         sum                  max       min     mean   \n",
       "Avatar                                                                       \n",
       "GreenYellow  36.681884  256.773189             4.724027  2.724108  3.68926   \n",
       "\n",
       "                      Yearly Amount Spent                                       \n",
       "                  sum                 max         min        mean          sum  \n",
       "Avatar                                                                          \n",
       "GreenYellow  25.82482          576.311177  416.358354  503.737734  3526.164138  "
      ]
     },
     "execution_count": 330,
     "metadata": {},
     "output_type": "execute_result"
    }
   ],
   "source": [
    "maximum_revenueby_avatar = groupby_avatar[\"Yearly Amount Spent\"].sum().max()\n",
    "groupby_avatar_agg[groupby_avatar_agg[(\"Yearly Amount Spent\",\"sum\")]== maximum_revenueby_avatar]"
   ]
  },
  {
   "cell_type": "code",
   "execution_count": 331,
   "id": "e5bb3a5c",
   "metadata": {},
   "outputs": [
    {
     "data": {
      "text/html": [
       "<div>\n",
       "<style scoped>\n",
       "    .dataframe tbody tr th:only-of-type {\n",
       "        vertical-align: middle;\n",
       "    }\n",
       "\n",
       "    .dataframe tbody tr th {\n",
       "        vertical-align: top;\n",
       "    }\n",
       "\n",
       "    .dataframe thead tr th {\n",
       "        text-align: left;\n",
       "    }\n",
       "\n",
       "    .dataframe thead tr:last-of-type th {\n",
       "        text-align: right;\n",
       "    }\n",
       "</style>\n",
       "<table border=\"1\" class=\"dataframe\">\n",
       "  <thead>\n",
       "    <tr>\n",
       "      <th></th>\n",
       "      <th colspan=\"4\" halign=\"left\">Avg. Session Length</th>\n",
       "      <th colspan=\"4\" halign=\"left\">Time on App</th>\n",
       "      <th colspan=\"4\" halign=\"left\">Time on Website</th>\n",
       "      <th colspan=\"4\" halign=\"left\">Length of Membership</th>\n",
       "      <th colspan=\"4\" halign=\"left\">Yearly Amount Spent</th>\n",
       "    </tr>\n",
       "    <tr>\n",
       "      <th></th>\n",
       "      <th>max</th>\n",
       "      <th>min</th>\n",
       "      <th>mean</th>\n",
       "      <th>sum</th>\n",
       "      <th>max</th>\n",
       "      <th>min</th>\n",
       "      <th>mean</th>\n",
       "      <th>sum</th>\n",
       "      <th>max</th>\n",
       "      <th>min</th>\n",
       "      <th>mean</th>\n",
       "      <th>sum</th>\n",
       "      <th>max</th>\n",
       "      <th>min</th>\n",
       "      <th>mean</th>\n",
       "      <th>sum</th>\n",
       "      <th>max</th>\n",
       "      <th>min</th>\n",
       "      <th>mean</th>\n",
       "      <th>sum</th>\n",
       "    </tr>\n",
       "    <tr>\n",
       "      <th>Avatar</th>\n",
       "      <th></th>\n",
       "      <th></th>\n",
       "      <th></th>\n",
       "      <th></th>\n",
       "      <th></th>\n",
       "      <th></th>\n",
       "      <th></th>\n",
       "      <th></th>\n",
       "      <th></th>\n",
       "      <th></th>\n",
       "      <th></th>\n",
       "      <th></th>\n",
       "      <th></th>\n",
       "      <th></th>\n",
       "      <th></th>\n",
       "      <th></th>\n",
       "      <th></th>\n",
       "      <th></th>\n",
       "      <th></th>\n",
       "      <th></th>\n",
       "    </tr>\n",
       "  </thead>\n",
       "  <tbody>\n",
       "    <tr>\n",
       "      <th>Red</th>\n",
       "      <td>32.48426</td>\n",
       "      <td>32.48426</td>\n",
       "      <td>32.48426</td>\n",
       "      <td>32.48426</td>\n",
       "      <td>10.933252</td>\n",
       "      <td>10.933252</td>\n",
       "      <td>10.933252</td>\n",
       "      <td>10.933252</td>\n",
       "      <td>36.545506</td>\n",
       "      <td>36.545506</td>\n",
       "      <td>36.545506</td>\n",
       "      <td>36.545506</td>\n",
       "      <td>3.261325</td>\n",
       "      <td>3.261325</td>\n",
       "      <td>3.261325</td>\n",
       "      <td>3.261325</td>\n",
       "      <td>425.745092</td>\n",
       "      <td>425.745092</td>\n",
       "      <td>425.745092</td>\n",
       "      <td>425.745092</td>\n",
       "    </tr>\n",
       "  </tbody>\n",
       "</table>\n",
       "</div>"
      ],
      "text/plain": [
       "       Avg. Session Length                               Time on App  \\\n",
       "                       max       min      mean       sum         max   \n",
       "Avatar                                                                 \n",
       "Red               32.48426  32.48426  32.48426  32.48426   10.933252   \n",
       "\n",
       "                                        Time on Website                        \\\n",
       "              min       mean        sum             max        min       mean   \n",
       "Avatar                                                                          \n",
       "Red     10.933252  10.933252  10.933252       36.545506  36.545506  36.545506   \n",
       "\n",
       "                  Length of Membership                                \\\n",
       "              sum                  max       min      mean       sum   \n",
       "Avatar                                                                 \n",
       "Red     36.545506             3.261325  3.261325  3.261325  3.261325   \n",
       "\n",
       "       Yearly Amount Spent                                      \n",
       "                       max         min        mean         sum  \n",
       "Avatar                                                          \n",
       "Red             425.745092  425.745092  425.745092  425.745092  "
      ]
     },
     "execution_count": 331,
     "metadata": {},
     "output_type": "execute_result"
    }
   ],
   "source": [
    "minimum_revenueby_avatar = groupby_avatar[\"Yearly Amount Spent\"].sum().min()\n",
    "groupby_avatar_agg[groupby_avatar_agg[(\"Yearly Amount Spent\",\"sum\")]== minimum_revenueby_avatar]"
   ]
  },
  {
   "cell_type": "code",
   "execution_count": 332,
   "id": "bea32a49",
   "metadata": {},
   "outputs": [
    {
     "data": {
      "text/plain": [
       "SlateBlue      7\n",
       "CadetBlue      7\n",
       "GreenYellow    7\n",
       "Teal           7\n",
       "Cyan           7\n",
       "Name: Avatar, dtype: int64"
      ]
     },
     "execution_count": 332,
     "metadata": {},
     "output_type": "execute_result"
    }
   ],
   "source": [
    "df[\"Avatar\"].value_counts().sort_values(ascending = False)[0:5]"
   ]
  },
  {
   "cell_type": "code",
   "execution_count": 333,
   "id": "a9b566ef",
   "metadata": {},
   "outputs": [
    {
     "data": {
      "text/plain": [
       "<Axes: >"
      ]
     },
     "execution_count": 333,
     "metadata": {},
     "output_type": "execute_result"
    },
    {
     "data": {
      "image/png": "[encoded data removed]",
      "text/plain": [
       "<Figure size 640x480 with 1 Axes>"
      ]
     },
     "metadata": {},
     "output_type": "display_data"
    }
   ],
   "source": [
    "df[\"Avatar\"].value_counts().sort_values(ascending = False)[0:5].plot(kind = \"bar\")"
   ]
  },
  {
   "cell_type": "code",
   "execution_count": 334,
   "id": "9f9d90d7",
   "metadata": {},
   "outputs": [
    {
     "data": {
      "text/plain": [
       "LawnGreen         1\n",
       "DeepSkyBlue       1\n",
       "PaleTurquoise     1\n",
       "LightSlateGray    1\n",
       "PaleGreen         1\n",
       "Name: Avatar, dtype: int64"
      ]
     },
     "execution_count": 334,
     "metadata": {},
     "output_type": "execute_result"
    }
   ],
   "source": [
    "df[\"Avatar\"].value_counts().sort_values(ascending = True)[0:5]"
   ]
  },
  {
   "cell_type": "code",
   "execution_count": 335,
   "id": "d13971fe",
   "metadata": {},
   "outputs": [
    {
     "data": {
      "text/plain": [
       "<Axes: >"
      ]
     },
     "execution_count": 335,
     "metadata": {},
     "output_type": "execute_result"
    },
    {
     "data": {
      "image/png": "[encoded data removed]",
      "text/plain": [
       "<Figure size 640x480 with 1 Axes>"
      ]
     },
     "metadata": {},
     "output_type": "display_data"
    }
   ],
   "source": [
    "df[\"Avatar\"].value_counts().sort_values(ascending = True)[0:5].plot(kind = \"bar\")"
   ]
  },
  {
   "cell_type": "code",
   "execution_count": 336,
   "id": "16734a28",
   "metadata": {},
   "outputs": [
    {
     "data": {
      "text/plain": [
       "(500, 8)"
      ]
     },
     "execution_count": 336,
     "metadata": {},
     "output_type": "execute_result"
    }
   ],
   "source": [
    "df.shape"
   ]
  },
  {
   "cell_type": "markdown",
   "id": "1a11c2e3",
   "metadata": {},
   "source": [
    "#Insights:\n",
    "1. There are total 8 columns which are('Email', 'Address', 'Avatar', 'Avg. Session Length', 'Time on App','Time on Website', 'Length of Membership', 'Yearly Amount Spent').\n",
    "2. There are no null values in any column.\n",
    "3. There are total 500 records.\n",
    "4. Total number of Avatar are 135.\n",
    "5. Total amount earned is 249657.019.\n",
    "6. Highest amount earned by \"GreenYellow\" avatar and lowest by \"Red\".\n",
    "7. maximum times visited by (SlateBlue,CadetBlue,GreenYellow,Teal and Cyan)avtar with equal times 7, and minimum time by (LawnGreen,DeepSkyBlue, PaleTurquoise, LightSlateGray and PaleGreen) with equal time 1."
   ]
  }
 ],
 "metadata": {
  "kernelspec": {
   "display_name": "Python 3 (ipykernel)",
   "language": "python",
   "name": "python3"
  },
  "language_info": {
   "codemirror_mode": {
    "name": "ipython",
    "version": 3
   },
   "file_extension": ".py",
   "mimetype": "text/x-python",
   "name": "python",
   "nbconvert_exporter": "python",
   "pygments_lexer": "ipython3",
   "version": "3.10.9"
  }
 },
 "nbformat": 4,
 "nbformat_minor": 5
}
