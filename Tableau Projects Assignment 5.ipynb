{
 "cells": [
  {
   "cell_type": "code",
   "execution_count": 153,
   "id": "8aa1bec3",
   "metadata": {},
   "outputs": [],
   "source": [
    "import pandas as pd\n",
    "import numpy as np\n",
    "import matplotlib.pyplot as plt\n",
    "%matplotlib inline"
   ]
  },
  {
   "cell_type": "code",
   "execution_count": 154,
   "id": "77cc20c6",
   "metadata": {},
   "outputs": [
    {
     "data": {
      "text/html": [
       "<div>\n",
       "<style scoped>\n",
       "    .dataframe tbody tr th:only-of-type {\n",
       "        vertical-align: middle;\n",
       "    }\n",
       "\n",
       "    .dataframe tbody tr th {\n",
       "        vertical-align: top;\n",
       "    }\n",
       "\n",
       "    .dataframe thead th {\n",
       "        text-align: right;\n",
       "    }\n",
       "</style>\n",
       "<table border=\"1\" class=\"dataframe\">\n",
       "  <thead>\n",
       "    <tr style=\"text-align: right;\">\n",
       "      <th></th>\n",
       "      <th>age</th>\n",
       "      <th>sex</th>\n",
       "      <th>bmi</th>\n",
       "      <th>children</th>\n",
       "      <th>smoker</th>\n",
       "      <th>region</th>\n",
       "      <th>charges</th>\n",
       "    </tr>\n",
       "  </thead>\n",
       "  <tbody>\n",
       "    <tr>\n",
       "      <th>0</th>\n",
       "      <td>19</td>\n",
       "      <td>female</td>\n",
       "      <td>27.90</td>\n",
       "      <td>0</td>\n",
       "      <td>yes</td>\n",
       "      <td>southwest</td>\n",
       "      <td>16884.9240</td>\n",
       "    </tr>\n",
       "    <tr>\n",
       "      <th>1</th>\n",
       "      <td>18</td>\n",
       "      <td>male</td>\n",
       "      <td>33.77</td>\n",
       "      <td>1</td>\n",
       "      <td>no</td>\n",
       "      <td>southeast</td>\n",
       "      <td>1725.5523</td>\n",
       "    </tr>\n",
       "    <tr>\n",
       "      <th>2</th>\n",
       "      <td>28</td>\n",
       "      <td>male</td>\n",
       "      <td>33.00</td>\n",
       "      <td>3</td>\n",
       "      <td>no</td>\n",
       "      <td>southeast</td>\n",
       "      <td>4449.4620</td>\n",
       "    </tr>\n",
       "  </tbody>\n",
       "</table>\n",
       "</div>"
      ],
      "text/plain": [
       "   age     sex    bmi  children smoker     region     charges\n",
       "0   19  female  27.90         0    yes  southwest  16884.9240\n",
       "1   18    male  33.77         1     no  southeast   1725.5523\n",
       "2   28    male  33.00         3     no  southeast   4449.4620"
      ]
     },
     "execution_count": 154,
     "metadata": {},
     "output_type": "execute_result"
    }
   ],
   "source": [
    "df = pd.read_csv(\"insurance.csv\")\n",
    "df[['sex','smoker','region']] = df[['sex','smoker','region']].astype('category') # coverted categegory column into category data type\n",
    "df.head(3)"
   ]
  },
  {
   "cell_type": "code",
   "execution_count": 155,
   "id": "ed66f343",
   "metadata": {},
   "outputs": [
    {
     "name": "stdout",
     "output_type": "stream",
     "text": [
      "<class 'pandas.core.frame.DataFrame'>\n",
      "RangeIndex: 1338 entries, 0 to 1337\n",
      "Data columns (total 7 columns):\n",
      " #   Column    Non-Null Count  Dtype   \n",
      "---  ------    --------------  -----   \n",
      " 0   age       1338 non-null   int64   \n",
      " 1   sex       1338 non-null   category\n",
      " 2   bmi       1338 non-null   float64 \n",
      " 3   children  1338 non-null   int64   \n",
      " 4   smoker    1338 non-null   category\n",
      " 5   region    1338 non-null   category\n",
      " 6   charges   1338 non-null   float64 \n",
      "dtypes: category(3), float64(2), int64(2)\n",
      "memory usage: 46.3 KB\n"
     ]
    }
   ],
   "source": [
    "df.info()  # there is no null value"
   ]
  },
  {
   "cell_type": "code",
   "execution_count": 156,
   "id": "a7f4a877",
   "metadata": {},
   "outputs": [
    {
     "data": {
      "text/plain": [
       "['female', 'male']\n",
       "Categories (2, object): ['female', 'male']"
      ]
     },
     "execution_count": 156,
     "metadata": {},
     "output_type": "execute_result"
    }
   ],
   "source": [
    "df[\"sex\"].unique() # sex have two category i.e; male and female"
   ]
  },
  {
   "cell_type": "code",
   "execution_count": 157,
   "id": "f19710d2",
   "metadata": {},
   "outputs": [
    {
     "data": {
      "text/plain": [
       "['yes', 'no']\n",
       "Categories (2, object): ['no', 'yes']"
      ]
     },
     "execution_count": 157,
     "metadata": {},
     "output_type": "execute_result"
    }
   ],
   "source": [
    "df[\"smoker\"].unique() # smoker is categories into yes and no."
   ]
  },
  {
   "cell_type": "code",
   "execution_count": 158,
   "id": "b1118c80",
   "metadata": {},
   "outputs": [
    {
     "data": {
      "text/plain": [
       "['southwest', 'southeast', 'northwest', 'northeast']\n",
       "Categories (4, object): ['northeast', 'northwest', 'southeast', 'southwest']"
      ]
     },
     "execution_count": 158,
     "metadata": {},
     "output_type": "execute_result"
    }
   ],
   "source": [
    "df[\"region\"].unique()  # there are four region i.e; 'southwest', 'southeast', 'northwest', 'northeast'"
   ]
  },
  {
   "cell_type": "code",
   "execution_count": 159,
   "id": "1c4d1d3c",
   "metadata": {},
   "outputs": [
    {
     "data": {
      "text/plain": [
       "Index(['age', 'sex', 'bmi', 'children', 'smoker', 'region', 'charges'], dtype='object')"
      ]
     },
     "execution_count": 159,
     "metadata": {},
     "output_type": "execute_result"
    }
   ],
   "source": [
    "df.columns  # there are 7 column ie; 'age', 'sex', 'bmi', 'children', 'smoker', 'region', 'charges'."
   ]
  },
  {
   "cell_type": "code",
   "execution_count": 160,
   "id": "771d1923",
   "metadata": {},
   "outputs": [
    {
     "data": {
      "text/html": [
       "<div>\n",
       "<style scoped>\n",
       "    .dataframe tbody tr th:only-of-type {\n",
       "        vertical-align: middle;\n",
       "    }\n",
       "\n",
       "    .dataframe tbody tr th {\n",
       "        vertical-align: top;\n",
       "    }\n",
       "\n",
       "    .dataframe thead th {\n",
       "        text-align: right;\n",
       "    }\n",
       "</style>\n",
       "<table border=\"1\" class=\"dataframe\">\n",
       "  <thead>\n",
       "    <tr style=\"text-align: right;\">\n",
       "      <th></th>\n",
       "      <th>region</th>\n",
       "      <th>sex</th>\n",
       "      <th>smoker</th>\n",
       "      <th>age</th>\n",
       "      <th>bmi</th>\n",
       "      <th>children</th>\n",
       "      <th>charges</th>\n",
       "    </tr>\n",
       "  </thead>\n",
       "  <tbody>\n",
       "    <tr>\n",
       "      <th>0</th>\n",
       "      <td>southwest</td>\n",
       "      <td>female</td>\n",
       "      <td>yes</td>\n",
       "      <td>19</td>\n",
       "      <td>27.90</td>\n",
       "      <td>0</td>\n",
       "      <td>16884.9240</td>\n",
       "    </tr>\n",
       "    <tr>\n",
       "      <th>1</th>\n",
       "      <td>southeast</td>\n",
       "      <td>male</td>\n",
       "      <td>no</td>\n",
       "      <td>18</td>\n",
       "      <td>33.77</td>\n",
       "      <td>1</td>\n",
       "      <td>1725.5523</td>\n",
       "    </tr>\n",
       "    <tr>\n",
       "      <th>2</th>\n",
       "      <td>southeast</td>\n",
       "      <td>male</td>\n",
       "      <td>no</td>\n",
       "      <td>28</td>\n",
       "      <td>33.00</td>\n",
       "      <td>3</td>\n",
       "      <td>4449.4620</td>\n",
       "    </tr>\n",
       "  </tbody>\n",
       "</table>\n",
       "</div>"
      ],
      "text/plain": [
       "      region     sex smoker  age    bmi  children     charges\n",
       "0  southwest  female    yes   19  27.90         0  16884.9240\n",
       "1  southeast    male     no   18  33.77         1   1725.5523\n",
       "2  southeast    male     no   28  33.00         3   4449.4620"
      ]
     },
     "execution_count": 160,
     "metadata": {},
     "output_type": "execute_result"
    }
   ],
   "source": [
    "df = df[['region','sex','smoker','age', 'bmi', 'children','charges']]\n",
    "df.head(3)"
   ]
  },
  {
   "cell_type": "code",
   "execution_count": 161,
   "id": "3f6d4b6b",
   "metadata": {},
   "outputs": [],
   "source": [
    "df[\"region2\"] = df['region'].str.slice(start=0, stop = 5) # created new column region2 with value north and south"
   ]
  },
  {
   "cell_type": "code",
   "execution_count": 162,
   "id": "014dcd96",
   "metadata": {},
   "outputs": [
    {
     "data": {
      "text/html": [
       "<div>\n",
       "<style scoped>\n",
       "    .dataframe tbody tr th:only-of-type {\n",
       "        vertical-align: middle;\n",
       "    }\n",
       "\n",
       "    .dataframe tbody tr th {\n",
       "        vertical-align: top;\n",
       "    }\n",
       "\n",
       "    .dataframe thead th {\n",
       "        text-align: right;\n",
       "    }\n",
       "</style>\n",
       "<table border=\"1\" class=\"dataframe\">\n",
       "  <thead>\n",
       "    <tr style=\"text-align: right;\">\n",
       "      <th></th>\n",
       "      <th>region</th>\n",
       "      <th>sub-region</th>\n",
       "      <th>sex</th>\n",
       "      <th>smoker</th>\n",
       "      <th>age</th>\n",
       "      <th>bmi</th>\n",
       "      <th>children</th>\n",
       "      <th>charges</th>\n",
       "    </tr>\n",
       "  </thead>\n",
       "  <tbody>\n",
       "    <tr>\n",
       "      <th>0</th>\n",
       "      <td>south</td>\n",
       "      <td>southwest</td>\n",
       "      <td>female</td>\n",
       "      <td>yes</td>\n",
       "      <td>19</td>\n",
       "      <td>27.90</td>\n",
       "      <td>0</td>\n",
       "      <td>16884.9240</td>\n",
       "    </tr>\n",
       "    <tr>\n",
       "      <th>1</th>\n",
       "      <td>south</td>\n",
       "      <td>southeast</td>\n",
       "      <td>male</td>\n",
       "      <td>no</td>\n",
       "      <td>18</td>\n",
       "      <td>33.77</td>\n",
       "      <td>1</td>\n",
       "      <td>1725.5523</td>\n",
       "    </tr>\n",
       "    <tr>\n",
       "      <th>2</th>\n",
       "      <td>south</td>\n",
       "      <td>southeast</td>\n",
       "      <td>male</td>\n",
       "      <td>no</td>\n",
       "      <td>28</td>\n",
       "      <td>33.00</td>\n",
       "      <td>3</td>\n",
       "      <td>4449.4620</td>\n",
       "    </tr>\n",
       "  </tbody>\n",
       "</table>\n",
       "</div>"
      ],
      "text/plain": [
       "  region sub-region     sex smoker  age    bmi  children     charges\n",
       "0  south  southwest  female    yes   19  27.90         0  16884.9240\n",
       "1  south  southeast    male     no   18  33.77         1   1725.5523\n",
       "2  south  southeast    male     no   28  33.00         3   4449.4620"
      ]
     },
     "execution_count": 162,
     "metadata": {},
     "output_type": "execute_result"
    }
   ],
   "source": [
    "df.rename(columns = {\"region\":\"sub-region\",\"region2\":\"region\"},inplace = True)\n",
    "df = df[['region','sub-region','sex','smoker','age', 'bmi', 'children','charges']]\n",
    "df.head(3)"
   ]
  },
  {
   "cell_type": "code",
   "execution_count": 163,
   "id": "0d4271f4",
   "metadata": {},
   "outputs": [
    {
     "data": {
      "text/plain": [
       "array(['south', 'north'], dtype=object)"
      ]
     },
     "execution_count": 163,
     "metadata": {},
     "output_type": "execute_result"
    }
   ],
   "source": [
    "df['region'].unique()"
   ]
  },
  {
   "cell_type": "code",
   "execution_count": 164,
   "id": "4755676c",
   "metadata": {},
   "outputs": [
    {
     "data": {
      "text/plain": [
       "38.44654088050314"
      ]
     },
     "execution_count": 164,
     "metadata": {},
     "output_type": "execute_result"
    }
   ],
   "source": [
    "df[(df['smoker']=='yes') & (df['sex'] == 'male')]['age'].mean()  # average age of male who smokes."
   ]
  },
  {
   "cell_type": "code",
   "execution_count": 165,
   "id": "1079445f",
   "metadata": {},
   "outputs": [
    {
     "data": {
      "text/plain": [
       "38.608695652173914"
      ]
     },
     "execution_count": 165,
     "metadata": {},
     "output_type": "execute_result"
    }
   ],
   "source": [
    "df[(df['smoker']=='yes') & (df['sex'] == 'female')]['age'].mean()  # average age of female who smokes"
   ]
  },
  {
   "cell_type": "code",
   "execution_count": 166,
   "id": "6cdfa6f0",
   "metadata": {},
   "outputs": [
    {
     "data": {
      "text/plain": [
       "159"
      ]
     },
     "execution_count": 166,
     "metadata": {},
     "output_type": "execute_result"
    }
   ],
   "source": [
    "len(df[(df['smoker']=='yes') & (df['sex'] == 'male')])  # Number of male who smokes"
   ]
  },
  {
   "cell_type": "code",
   "execution_count": 167,
   "id": "70793482",
   "metadata": {},
   "outputs": [
    {
     "data": {
      "text/plain": [
       "115"
      ]
     },
     "execution_count": 167,
     "metadata": {},
     "output_type": "execute_result"
    }
   ],
   "source": [
    "len(df[(df['smoker']=='yes') & (df['sex'] == 'female')])  # Number of female who smokes"
   ]
  },
  {
   "cell_type": "code",
   "execution_count": 168,
   "id": "136f4d7f",
   "metadata": {},
   "outputs": [
    {
     "data": {
      "text/plain": [
       "33042.00597528303"
      ]
     },
     "execution_count": 168,
     "metadata": {},
     "output_type": "execute_result"
    }
   ],
   "source": [
    "df[(df['smoker']=='yes') & (df['sex'] == 'male')]['charges'].mean()  # average charge of male who smokes"
   ]
  },
  {
   "cell_type": "code",
   "execution_count": 169,
   "id": "5d72a7ec",
   "metadata": {},
   "outputs": [
    {
     "data": {
      "text/plain": [
       "33042.00597528303"
      ]
     },
     "execution_count": 169,
     "metadata": {},
     "output_type": "execute_result"
    }
   ],
   "source": [
    "df[(df['smoker']=='yes') & (df['sex'] == 'male')]['charges'].mean()  # average charge of female who smokes"
   ]
  },
  {
   "cell_type": "code",
   "execution_count": 170,
   "id": "327fbc3b",
   "metadata": {},
   "outputs": [
    {
     "data": {
      "text/plain": [
       "20.47832585949178"
      ]
     },
     "execution_count": 170,
     "metadata": {},
     "output_type": "execute_result"
    }
   ],
   "source": [
    "smokers = len(df[(df['smoker']=='yes')])/len(df)*100  # total 20.47 % people smokes\n",
    "smokers   "
   ]
  },
  {
   "cell_type": "code",
   "execution_count": 171,
   "id": "110c764f",
   "metadata": {},
   "outputs": [
    {
     "data": {
      "text/plain": [
       "11.883408071748878"
      ]
     },
     "execution_count": 171,
     "metadata": {},
     "output_type": "execute_result"
    }
   ],
   "source": [
    "male_smokers = len(df[(df['smoker']=='yes') & (df['sex']=='male')])/len(df)*100  # Out of total 11.83% male smokes  \n",
    "male_smokers"
   ]
  },
  {
   "cell_type": "code",
   "execution_count": 172,
   "id": "730e6a30",
   "metadata": {},
   "outputs": [
    {
     "data": {
      "text/plain": [
       "8.594917787742899"
      ]
     },
     "execution_count": 172,
     "metadata": {},
     "output_type": "execute_result"
    }
   ],
   "source": [
    "female_smokers = len(df[(df['smoker']=='yes') & (df['sex']=='female')])/len(df)*100 # and 8.59% female smokes\n",
    "female_smokers"
   ]
  },
  {
   "cell_type": "markdown",
   "id": "5cc4d6a4",
   "metadata": {},
   "source": [
    "# insights:\n",
    "1. there are 7 column ie; 'age', 'sex', 'bmi', 'children', 'smoker', 'region', 'charges'.\n",
    "2. there is no null value.\n",
    "3. sex have two category i.e; male and female.\n",
    "4. smoker is categories into yes and no.\n",
    "5. average age of male who smokes is 38.446.\n",
    "6. average age of female who smokes is 38.60.\n",
    "7. Number of male who smokes is 159.\n",
    "8. Number of female who smokes is 115.\n",
    "9. average charge of male and female who smokes is equal, who smokes is 33042.\n",
    "10. total 20.47 % people smokes, out of which 11.83% male and 8.59% female."
   ]
  },
  {
   "cell_type": "code",
   "execution_count": null,
   "id": "8798e3e0",
   "metadata": {},
   "outputs": [],
   "source": []
  },
  {
   "cell_type": "code",
   "execution_count": null,
   "id": "2fe02497",
   "metadata": {},
   "outputs": [],
   "source": []
  },
  {
   "cell_type": "code",
   "execution_count": null,
   "id": "d992b6d5",
   "metadata": {},
   "outputs": [],
   "source": []
  },
  {
   "cell_type": "code",
   "execution_count": null,
   "id": "7dfa7417",
   "metadata": {},
   "outputs": [],
   "source": []
  },
  {
   "cell_type": "code",
   "execution_count": null,
   "id": "721399b7",
   "metadata": {},
   "outputs": [],
   "source": []
  }
 ],
 "metadata": {
  "kernelspec": {
   "display_name": "Python 3 (ipykernel)",
   "language": "python",
   "name": "python3"
  },
  "language_info": {
   "codemirror_mode": {
    "name": "ipython",
    "version": 3
   },
   "file_extension": ".py",
   "mimetype": "text/x-python",
   "name": "python",
   "nbconvert_exporter": "python",
   "pygments_lexer": "ipython3",
   "version": "3.10.9"
  }
 },
 "nbformat": 4,
 "nbformat_minor": 5
}
